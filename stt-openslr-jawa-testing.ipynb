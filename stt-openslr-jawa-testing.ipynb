{
 "cells": [
  {
   "cell_type": "markdown",
   "metadata": {},
   "source": [
    "### Testing Speech to Text (STT) using OpenSLR dataset with Javanese language"
   ]
  },
  {
   "cell_type": "markdown",
   "metadata": {},
   "source": [
    "#### Works, but not good enough. Need to find better dataset and training."
   ]
  },
  {
   "cell_type": "code",
   "execution_count": 8,
   "metadata": {},
   "outputs": [],
   "source": [
    "import tensorflow as tf\n",
    "from tensorflow import keras\n",
    "from keras import layers\n",
    "import numpy as np"
   ]
  },
  {
   "cell_type": "code",
   "execution_count": 9,
   "metadata": {},
   "outputs": [],
   "source": [
    "MODEL_LOAD = './model/modelJava235-CTC-TF.h5'\n",
    "SOUND_PATH = './assets/Recording4Edited.wav'"
   ]
  },
  {
   "cell_type": "code",
   "execution_count": 10,
   "metadata": {},
   "outputs": [],
   "source": [
    "# predict the sound in SOUND_PATH using the model in MODEL_PATH\n",
    "frameLength = 256\n",
    "frameStep = 160\n",
    "fftLength = 384\n",
    "\n",
    "def predictSound(modelPath, soundPath):\n",
    "    model = keras.models.load_model(modelPath, compile=False)\n",
    "    model.compile(optimizer = keras.optimizers.Adam(learning_rate = 1e-4), loss = CTCLoss)\n",
    "    file = tf.io.read_file(soundPath)\n",
    "    audio, _ = tf.audio.decode_wav(file)\n",
    "    audio = tf.squeeze(audio, axis=-1)\n",
    "    audio = tf.cast(audio, tf.float32)\n",
    "\n",
    "    spectogram = tf.signal.stft(audio, frame_length=frameLength, frame_step=frameStep, fft_length=fftLength)\n",
    "    spectogram = tf.abs(spectogram)\n",
    "    spectogram = tf.math.pow(spectogram, 0.5)\n",
    "\n",
    "    means = tf.math.reduce_mean(spectogram, 1, keepdims=True)\n",
    "    stddevs = tf.math.reduce_std(spectogram, 1, keepdims=True)\n",
    "    spectogram = (spectogram - means) / (stddevs + 1e-10)\n",
    "\n",
    "    spectogram = tf.expand_dims(spectogram, axis=0)\n",
    "    prediction = model.predict(spectogram)\n",
    "    prediction = decodeBatchPredictions(prediction)[0]\n",
    "    return prediction"
   ]
  },
  {
   "cell_type": "code",
   "execution_count": 11,
   "metadata": {},
   "outputs": [],
   "source": [
    "def decodeBatchPredictions(pred):\n",
    "    inputLen = np.ones(pred.shape[0]) * pred.shape[1]\n",
    "    results = keras.backend.ctc_decode(pred, input_length=inputLen, greedy=True)[0][0]\n",
    "    outputText = []\n",
    "    for result in results:\n",
    "        result = tf.strings.reduce_join(numToChar(result)).numpy().decode('utf-8')\n",
    "        outputText.append(result)\n",
    "    return outputText"
   ]
  },
  {
   "cell_type": "code",
   "execution_count": 12,
   "metadata": {},
   "outputs": [],
   "source": [
    "def CTCLoss (y_true, y_pred):\n",
    "    batchLen = tf.cast(tf.shape(y_true)[0], dtype='int64')\n",
    "    inputLen = tf.cast(tf.shape(y_pred)[1], dtype='int64')\n",
    "    labelLen = tf.cast(tf.shape(y_true)[1], dtype='int64')\n",
    "\n",
    "    inputLen = inputLen * tf.ones(shape=(batchLen, 1), dtype='int64')\n",
    "    labelLen = labelLen * tf.ones(shape=(batchLen, 1), dtype='int64')\n",
    "\n",
    "    loss = keras.backend.ctc_batch_cost(y_true, y_pred, inputLen, labelLen)\n",
    "    return loss"
   ]
  },
  {
   "cell_type": "code",
   "execution_count": 13,
   "metadata": {},
   "outputs": [
    {
     "name": "stdout",
     "output_type": "stream",
     "text": [
      "The Vocabulary size: ['', 'a', 'b', 'c', 'd', 'e', 'f', 'g', 'h', 'i', 'j', 'k', 'l', 'm', 'n', 'o', 'p', 'q', 'r', 's', 't', 'u', 'v', 'w', 'x', 'y', 'z', \"'\", '?', '!', ' ']\n",
      "(size = 31)\n"
     ]
    }
   ],
   "source": [
    "char = [x for x in \"abcdefghijklmnopqrstuvwxyz'?! \"]\n",
    "charToNum = keras.layers.StringLookup(vocabulary=char, oov_token=\"\")\n",
    "numToChar = keras.layers.StringLookup(vocabulary=charToNum.get_vocabulary(), oov_token=\"\", invert=True)\n",
    "\n",
    "print(f\"The Vocabulary size: {charToNum.get_vocabulary()}\")\n",
    "print(f\"(size = {charToNum.vocabulary_size()})\")"
   ]
  },
  {
   "cell_type": "code",
   "execution_count": 14,
   "metadata": {},
   "outputs": [
    {
     "name": "stdout",
     "output_type": "stream",
     "text": [
      "1/1 [==============================] - 3s 3s/step\n"
     ]
    },
    {
     "data": {
      "text/plain": [
       "'aaora daal are eakeacedhe aaiakida'"
      ]
     },
     "execution_count": 14,
     "metadata": {},
     "output_type": "execute_result"
    }
   ],
   "source": [
    "predictSound(MODEL_LOAD, SOUND_PATH)"
   ]
  }
 ],
 "metadata": {
  "kernelspec": {
   "display_name": "venv",
   "language": "python",
   "name": "python3"
  },
  "language_info": {
   "codemirror_mode": {
    "name": "ipython",
    "version": 3
   },
   "file_extension": ".py",
   "mimetype": "text/x-python",
   "name": "python",
   "nbconvert_exporter": "python",
   "pygments_lexer": "ipython3",
   "version": "3.10.11"
  }
 },
 "nbformat": 4,
 "nbformat_minor": 2
}
